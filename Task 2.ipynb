{
 "cells": [
  {
   "cell_type": "code",
   "execution_count": 3,
   "id": "d6133d76-fbb6-4ff8-8de2-58109d72a708",
   "metadata": {},
   "outputs": [],
   "source": [
    "import pandas as pd\n",
    "import matplotlib.pyplot as plt\n",
    "import seaborn as sns\n",
    "from nltk.sentiment.vader import SentimentIntensityAnalyzer\n",
    "import nltk"
   ]
  },
  {
   "cell_type": "code",
   "execution_count": 4,
   "id": "74d8e094-7d93-4bc6-af2d-4ef3ba72bb69",
   "metadata": {},
   "outputs": [
    {
     "name": "stderr",
     "output_type": "stream",
     "text": [
      "[nltk_data] Downloading package vader_lexicon to\n",
      "[nltk_data]     C:\\Users\\REA\\AppData\\Roaming\\nltk_data...\n"
     ]
    },
    {
     "data": {
      "text/plain": [
       "True"
      ]
     },
     "execution_count": 4,
     "metadata": {},
     "output_type": "execute_result"
    }
   ],
   "source": [
    "nltk.download('vader_lexicon')"
   ]
  },
  {
   "cell_type": "code",
   "execution_count": 6,
   "id": "1502f985-d519-4c2b-a1ec-2a0482275396",
   "metadata": {},
   "outputs": [
    {
     "name": "stdout",
     "output_type": "stream",
     "text": [
      " IPL Dataset Loaded\n"
     ]
    }
   ],
   "source": [
    "df = pd.read_csv(\"IPL sample data.csv\")\n",
    "df = df.dropna(axis=1, how='all').copy()\n",
    "print(\" IPL Dataset Loaded\")"
   ]
  },
  {
   "cell_type": "code",
   "execution_count": 7,
   "id": "576fa473-b515-41d2-a5d6-d4962a2a41af",
   "metadata": {},
   "outputs": [],
   "source": [
    "df['text'] = df.astype(str).agg(' '.join, axis=1)"
   ]
  },
  {
   "cell_type": "code",
   "execution_count": 8,
   "id": "20f4d382-0379-4528-a590-69f58c4e3424",
   "metadata": {},
   "outputs": [
    {
     "name": "stdout",
     "output_type": "stream",
     "text": [
      " Text Data Prepared\n"
     ]
    },
    {
     "data": {
      "text/html": [
       "<div>\n",
       "<style scoped>\n",
       "    .dataframe tbody tr th:only-of-type {\n",
       "        vertical-align: middle;\n",
       "    }\n",
       "\n",
       "    .dataframe tbody tr th {\n",
       "        vertical-align: top;\n",
       "    }\n",
       "\n",
       "    .dataframe thead th {\n",
       "        text-align: right;\n",
       "    }\n",
       "</style>\n",
       "<table border=\"1\" class=\"dataframe\">\n",
       "  <thead>\n",
       "    <tr style=\"text-align: right;\">\n",
       "      <th></th>\n",
       "      <th>text</th>\n",
       "    </tr>\n",
       "  </thead>\n",
       "  <tbody>\n",
       "    <tr>\n",
       "      <th>0</th>\n",
       "      <td>Throw Y-&gt; Good Throw N-&gt; Bad throw DH-&gt; Dirct ...</td>\n",
       "    </tr>\n",
       "    <tr>\n",
       "      <th>1</th>\n",
       "      <td>Runs \"+\" stands for runs saved \"-\" stands for ...</td>\n",
       "    </tr>\n",
       "    <tr>\n",
       "      <th>2</th>\n",
       "      <td>nan nan nan nan nan nan nan nan nan nan nan na...</td>\n",
       "    </tr>\n",
       "    <tr>\n",
       "      <th>3</th>\n",
       "      <td>nan Match No. Innings Teams Player Name BallCo...</td>\n",
       "    </tr>\n",
       "    <tr>\n",
       "      <th>4</th>\n",
       "      <td>nan IPL2367 1 Delhi Capitals Rilee russouw 0.1...</td>\n",
       "    </tr>\n",
       "  </tbody>\n",
       "</table>\n",
       "</div>"
      ],
      "text/plain": [
       "                                                text\n",
       "0  Throw Y-> Good Throw N-> Bad throw DH-> Dirct ...\n",
       "1  Runs \"+\" stands for runs saved \"-\" stands for ...\n",
       "2  nan nan nan nan nan nan nan nan nan nan nan na...\n",
       "3  nan Match No. Innings Teams Player Name BallCo...\n",
       "4  nan IPL2367 1 Delhi Capitals Rilee russouw 0.1..."
      ]
     },
     "metadata": {},
     "output_type": "display_data"
    }
   ],
   "source": [
    "text_df = df[['text']].copy()\n",
    "print(\" Text Data Prepared\")\n",
    "display(text_df.head())"
   ]
  },
  {
   "cell_type": "code",
   "execution_count": 9,
   "id": "e064077d-803a-47b0-8032-2cdf7b007478",
   "metadata": {},
   "outputs": [],
   "source": [
    "analyzer = SentimentIntensityAnalyzer()"
   ]
  },
  {
   "cell_type": "code",
   "execution_count": 10,
   "id": "2ad95d58-5385-4e37-aa18-4fd28589fd75",
   "metadata": {},
   "outputs": [],
   "source": [
    "text_df['compound'] = text_df['text'].apply(lambda x: analyzer.polarity_scores(x)['compound'])"
   ]
  },
  {
   "cell_type": "code",
   "execution_count": 11,
   "id": "41e46403-b8c0-4bdf-965c-668dad5a16d3",
   "metadata": {},
   "outputs": [
    {
     "name": "stdout",
     "output_type": "stream",
     "text": [
      "\n",
      " Sentiment Classification Done\n"
     ]
    },
    {
     "data": {
      "text/html": [
       "<div>\n",
       "<style scoped>\n",
       "    .dataframe tbody tr th:only-of-type {\n",
       "        vertical-align: middle;\n",
       "    }\n",
       "\n",
       "    .dataframe tbody tr th {\n",
       "        vertical-align: top;\n",
       "    }\n",
       "\n",
       "    .dataframe thead th {\n",
       "        text-align: right;\n",
       "    }\n",
       "</style>\n",
       "<table border=\"1\" class=\"dataframe\">\n",
       "  <thead>\n",
       "    <tr style=\"text-align: right;\">\n",
       "      <th></th>\n",
       "      <th>text</th>\n",
       "      <th>compound</th>\n",
       "      <th>sentiment</th>\n",
       "    </tr>\n",
       "  </thead>\n",
       "  <tbody>\n",
       "    <tr>\n",
       "      <th>0</th>\n",
       "      <td>Throw Y-&gt; Good Throw N-&gt; Bad throw DH-&gt; Dirct ...</td>\n",
       "      <td>-0.4215</td>\n",
       "      <td>Negative</td>\n",
       "    </tr>\n",
       "    <tr>\n",
       "      <th>1</th>\n",
       "      <td>Runs \"+\" stands for runs saved \"-\" stands for ...</td>\n",
       "      <td>0.4215</td>\n",
       "      <td>Positive</td>\n",
       "    </tr>\n",
       "    <tr>\n",
       "      <th>2</th>\n",
       "      <td>nan nan nan nan nan nan nan nan nan nan nan na...</td>\n",
       "      <td>0.0000</td>\n",
       "      <td>Neutral</td>\n",
       "    </tr>\n",
       "    <tr>\n",
       "      <th>3</th>\n",
       "      <td>nan Match No. Innings Teams Player Name BallCo...</td>\n",
       "      <td>-0.2960</td>\n",
       "      <td>Negative</td>\n",
       "    </tr>\n",
       "    <tr>\n",
       "      <th>4</th>\n",
       "      <td>nan IPL2367 1 Delhi Capitals Rilee russouw 0.1...</td>\n",
       "      <td>0.0000</td>\n",
       "      <td>Neutral</td>\n",
       "    </tr>\n",
       "  </tbody>\n",
       "</table>\n",
       "</div>"
      ],
      "text/plain": [
       "                                                text  compound sentiment\n",
       "0  Throw Y-> Good Throw N-> Bad throw DH-> Dirct ...   -0.4215  Negative\n",
       "1  Runs \"+\" stands for runs saved \"-\" stands for ...    0.4215  Positive\n",
       "2  nan nan nan nan nan nan nan nan nan nan nan na...    0.0000   Neutral\n",
       "3  nan Match No. Innings Teams Player Name BallCo...   -0.2960  Negative\n",
       "4  nan IPL2367 1 Delhi Capitals Rilee russouw 0.1...    0.0000   Neutral"
      ]
     },
     "metadata": {},
     "output_type": "display_data"
    }
   ],
   "source": [
    "def label_sentiment(score):\n",
    "    if score >= 0.05:\n",
    "        return 'Positive'\n",
    "    elif score <= -0.05:\n",
    "        return 'Negative'\n",
    "    else:\n",
    "        return 'Neutral'\n",
    "\n",
    "text_df['sentiment'] = text_df['compound'].apply(label_sentiment)\n",
    "print(\"\\n Sentiment Classification Done\")\n",
    "display(text_df.head())"
   ]
  },
  {
   "cell_type": "code",
   "execution_count": 12,
   "id": "0ab89750-820e-4386-8191-46dec487b6f6",
   "metadata": {},
   "outputs": [
    {
     "name": "stderr",
     "output_type": "stream",
     "text": [
      "C:\\Users\\REA\\AppData\\Local\\Temp\\ipykernel_8592\\4155660986.py:1: FutureWarning: \n",
      "\n",
      "Passing `palette` without assigning `hue` is deprecated and will be removed in v0.14.0. Assign the `x` variable to `hue` and set `legend=False` for the same effect.\n",
      "\n",
      "  sns.countplot(x='sentiment', data=text_df, palette='coolwarm')\n"
     ]
    },
    {
     "data": {
      "image/png": "[encoded data removed]",
      "text/plain": [
       "<Figure size 640x480 with 1 Axes>"
      ]
     },
     "metadata": {},
     "output_type": "display_data"
    }
   ],
   "source": [
    "sns.countplot(x='sentiment', data=text_df, palette='coolwarm')\n",
    "plt.title('Sentiment Distribution - IPL Dataset')\n",
    "plt.xlabel('Sentiment Category')\n",
    "plt.ylabel('Count')\n",
    "plt.show()"
   ]
  },
  {
   "cell_type": "code",
   "execution_count": null,
   "id": "172c7c44-c4fa-416d-9127-901b43507a1b",
   "metadata": {},
   "outputs": [],
   "source": [
    "# If detection fails, fall back to manual list (safe default)\n",
    "if not action_cols:\n",
    "    # common names in your sample: adapt if your normalized columns differ\n",
    "    fallback = ['pick','clean_pick','fumble','catch','dropped_catch','stumping']\n",
    "    action_cols = [c for c in fallback if c in df.columns]\n",
    "    print(\"Fallback action columns:\", action_cols)\n",
    "\n",
    "if not action_cols:\n",
    "    raise RuntimeError(\"No action columns detected. Inspect df.columns and update action_keywords.\")\n"
   ]
  }
 ],
 "metadata": {
  "kernelspec": {
   "display_name": "Python 3 (ipykernel)",
   "language": "python",
   "name": "python3"
  },
  "language_info": {
   "codemirror_mode": {
    "name": "ipython",
    "version": 3
   },
   "file_extension": ".py",
   "mimetype": "text/x-python",
   "name": "python",
   "nbconvert_exporter": "python",
   "pygments_lexer": "ipython3",
   "version": "3.13.5"
  }
 },
 "nbformat": 4,
 "nbformat_minor": 5
}
